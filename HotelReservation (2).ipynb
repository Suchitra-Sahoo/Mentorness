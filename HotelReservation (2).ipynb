{
 "cells": [
  {
   "cell_type": "markdown",
   "id": "05124a2e-7465-43ba-9c0a-edf67edb15e9",
   "metadata": {},
   "source": [
    "# Hotel Reservation Dataset Analysis\n",
    "\n",
    "## Query 1: Total Number of Reservations\n",
    "```sql\n",
    "SELECT COUNT(*) AS total_reservations\n",
    "FROM reservations;\n"
   ]
  },
  {
   "cell_type": "markdown",
   "id": "95bf0b44-9af9-4c22-9145-32e1866811a1",
   "metadata": {},
   "source": [
    "## Query 2: Most Popular Meal Plan\n",
    "```sql\n",
    "SELECT type_of_meal_plan, COUNT(*) AS count\n",
    "FROM reservations\n",
    "GROUP BY type_of_meal_plan\n",
    "ORDER BY count DESC\n",
    "LIMIT 1;\n"
   ]
  },
  {
   "cell_type": "markdown",
   "id": "51e61128-3094-4345-81e0-7f90fa2b0a96",
   "metadata": {},
   "source": [
    "## Query 3: Average Price per Room for Reservations Involving Children\r\n",
    "```sql\r\n",
    "SELECT AVG(avg_price_per_room) AS average_price\r\n",
    "FROM reservations\r\n",
    "WHERE no_of_children > 0;\r\n"
   ]
  },
  {
   "cell_type": "markdown",
   "id": "d9d37ac2-27bf-49ea-ad5a-861903ae37eb",
   "metadata": {},
   "source": [
    "## Query 4: Reservations Made for the Year 20XX\r\n",
    "```sql\r\n",
    "SELECT COUNT(*) AS reservations_count\r\n",
    "FROM reservations\r\n",
    "WHERE YEAR(arrival_date) = 20XX;\r\n"
   ]
  },
  {
   "cell_type": "markdown",
   "id": "d22e5377-014f-4fce-b2ca-ff2d15f2fcd2",
   "metadata": {},
   "source": [
    "\n",
    "## Query 5: Most Commonly Booked Room Type\r\n",
    "```sql\r\n",
    "SELECT room_type_reserved, COUNT(*) AS count\r\n",
    "FROM reservations\r\n",
    "GROUP BY room_type_reserved\r\n",
    "ORDER BY count DESC\r\n",
    "LIMIT 1;\r\n"
   ]
  },
  {
   "cell_type": "markdown",
   "id": "aaf52cdd-357a-4f58-a0c4-8a61f9eb71ae",
   "metadata": {},
   "source": [
    "## Query 7: Highest and Lowest Lead Time for Reservations\r\n",
    "```sql\r\n",
    "SELECT MAX(lead_time) AS highest_lead_time, MIN(lead_time) AS lowest_lead_time\r\n",
    "FROM reservations;\r\n"
   ]
  },
  {
   "cell_type": "markdown",
   "id": "57f330ef-8b87-41dd-96dd-4fe4306bfd6c",
   "metadata": {},
   "source": [
    "## Query 8: Most Common Market Segment Type for Reservations\r\n",
    "```sql\r\n",
    "SELECT market_segment_type, COUNT(*) AS count\r\n",
    "FROM reservations\r\n",
    "GROUP BY market_segment_type\r\n",
    "ORDER BY count DESC\r\n",
    "LIMIT 1;\r\n"
   ]
  },
  {
   "cell_type": "markdown",
   "id": "38b3ff6f-4c35-48e7-9058-9f26d7c91b1f",
   "metadata": {},
   "source": [
    "## Query 9: Reservations with a Booking Status of \"Confirmed\"\r\n",
    "```sql\r\n",
    "SELECT COUNT(*) AS confirmed_reservations\r\n",
    "FROM reservations\r\n",
    "WHERE booking_status = 'Confirmed';\r\n"
   ]
  },
  {
   "cell_type": "markdown",
   "id": "e7395a17-e39a-4a5d-baaa-4e9a4df8575f",
   "metadata": {},
   "source": [
    "## Query 10: Total Number of Adults and Children Across All Reservations\r\n",
    "```sql\r\n",
    "SELECT SUM(no_of_adults) AS total_adults, SUM(no_of_children) AS total_children\r\n",
    "FROM reservations;\r\n"
   ]
  },
  {
   "cell_type": "markdown",
   "id": "9daaf292-d6ff-4cd8-921a-675ad7660ea7",
   "metadata": {},
   "source": [
    "## Query 11: Average Number of Weekend Nights for Reservations Involving Children\r\n",
    "```sql\r\n",
    "SELECT AVG(no_of_weekend_nights) AS average_weekend_nights\r\n",
    "FROM reservations\r\n",
    "WHERE no_of_children > 0;\r\n"
   ]
  },
  {
   "cell_type": "markdown",
   "id": "e42cbf18-a646-4d9e-a7c7-eb5db6c13ca9",
   "metadata": {},
   "source": [
    "## Query 12: Reservations Made in Each Month of the Year\r\n",
    "```sql\r\n",
    "SELECT MONTH(arrival_date) AS month, COUNT(*) AS reservations_count\r\n",
    "FROM reservations\r\n",
    "GROUP BY MONTH(arrival_date)\r\n",
    "ORDER BY month;\r\n"
   ]
  },
  {
   "cell_type": "markdown",
   "id": "8f2ab3f0-a532-494b-a5f5-a3b9f1cd8871",
   "metadata": {},
   "source": [
    "## Query 13: Average Number of Nights Spent by Guests for Each Room Type\r\n",
    "```sql\r\n",
    "SELECT room_type_reserved, \r\n",
    "       AVG(no_of_weekend_nights + no_of_week_nights) AS average_total_nights\r\n",
    "FROM reservations\r\n",
    "GROUP BY room_type_reserved;\r\n"
   ]
  },
  {
   "cell_type": "markdown",
   "id": "0530ec0f-64e5-4543-8047-58aac3ec1061",
   "metadata": {},
   "source": [
    "## Query 14: Most Common Room Type and Average Price for Reservations Involving Children\r\n",
    "```sql\r\n",
    "SELECT room_type_reserved, AVG(avg_price_per_room) AS average_price\r\n",
    "FROM reservations\r\n",
    "WHERE no_of_children > 0\r\n",
    "GROUP BY room_type_reserved\r\n",
    "ORDER BY COUNT(*) DESC\r\n",
    "LIMIT 1;\r\n"
   ]
  },
  {
   "cell_type": "markdown",
   "id": "0b1c0bc8-a058-483a-b6f1-bec9706095ed",
   "metadata": {},
   "source": [
    "## Query 15: Market Segment Type Generating the Highest Average Price per Room\r\n",
    "```sql\r\n",
    "SELECT market_segment_type, AVG(avg_price_per_room) AS average_price\r\n",
    "FROM reservations\r\n",
    "GROUP BY market_segment_type\r\n",
    "ORDER BY average_price DESC\r\n",
    "LIMIT 1;\r\n"
   ]
  }
 ],
 "metadata": {
  "kernelspec": {
   "display_name": "Python 3 (ipykernel)",
   "language": "python",
   "name": "python3"
  },
  "language_info": {
   "codemirror_mode": {
    "name": "ipython",
    "version": 3
   },
   "file_extension": ".py",
   "mimetype": "text/x-python",
   "name": "python",
   "nbconvert_exporter": "python",
   "pygments_lexer": "ipython3",
   "version": "3.11.7"
  }
 },
 "nbformat": 4,
 "nbformat_minor": 5
}
